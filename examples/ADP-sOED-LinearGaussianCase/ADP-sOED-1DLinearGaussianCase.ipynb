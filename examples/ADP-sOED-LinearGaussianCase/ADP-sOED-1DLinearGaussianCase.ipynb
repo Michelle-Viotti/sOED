{
 "cells": [
  {
   "cell_type": "code",
   "execution_count": 4,
   "metadata": {
    "ExecuteTime": {
     "end_time": "2021-10-20T22:53:02.628636Z",
     "start_time": "2021-10-20T22:52:59.190835Z"
    }
   },
   "outputs": [
    {
     "name": "stdout",
     "output_type": "stream",
     "text": [
      "The autoreload extension is already loaded. To reload it, use:\n",
      "  %reload_ext autoreload\n"
     ]
    }
   ],
   "source": [
    "%load_ext autoreload\n",
    "%autoreload 2\n",
    "\n",
    "import os,sys,inspect\n",
    "current_dir = os.path.dirname(os.path.abspath(inspect.getfile(inspect.currentframe())))\n",
    "parent_dir = os.path.dirname(os.path.dirname(current_dir))\n",
    "sys.path.insert(0, parent_dir) \n",
    "\n",
    "import numpy as np\n",
    "import matplotlib.pyplot as plt\n",
    "\n",
    "from sOED import SOED\n",
    "from sOED import ADPsOED\n",
    "from sOED.utils import *\n",
    "\n",
    "def linear_model(stage, theta, d, xp=None):\n",
    "    \"\"\"\n",
    "    Linear model function G(theta, d) = theta * d\n",
    "\n",
    "    Parameters\n",
    "    ----------\n",
    "    stage : int\n",
    "        The stage index of the experiment.\n",
    "    theta : np.ndarray of size (n_sample or 1, n_param)\n",
    "        The value of unknown linear model parameters.\n",
    "    d : np.ndarray of size (n_sample or 1, n_design)\n",
    "        The design variable.\n",
    "    xp : np.ndarray of size (n_sample or 1, n_phys_state)\n",
    "         , optional(default=None)\n",
    "        The physical state.\n",
    "\n",
    "    Returns\n",
    "    -------\n",
    "    numpy.ndarray of size (n_sample, n_obs)\n",
    "        The output of the linear model.\n",
    "    \"\"\"\n",
    "    global count\n",
    "    count += max(len(theta), len(d))\n",
    "    return theta * d\n",
    "\n",
    "def reward_fun(stage, xb, xp, d, y):\n",
    "    \"\"\"\n",
    "    Non-KL-divergence based reward function g_k(x_k, d_k, y_k)\n",
    "    \n",
    "    Parameters\n",
    "    ----------\n",
    "    stage : int\n",
    "        The stage index of the experiment.\n",
    "    xb : numpy.ndarray of size (n_grid ** n_param, n_param + 1)\n",
    "        Grid discritization of the belief state.\n",
    "    xp : np.ndarray of size (n_phys_state)\n",
    "        The physical state.\n",
    "    d : np.ndarray of size (n_design)\n",
    "        The design variable.\n",
    "    y : np.ndarray of size (n_obs)\n",
    "        The observation.\n",
    "\n",
    "    Returns\n",
    "    -------\n",
    "    A float which is the reward.\n",
    "    \"\"\"\n",
    "    if stage < n_stage:\n",
    "        return 0\n",
    "    else:\n",
    "        dx = xb[1, 0] - xb[0, 0]\n",
    "        mean = (xb[:, 1] * xb[:, 0]).sum() * dx\n",
    "        var = (xb[:, 1] * xb[:, 0] ** 2).sum() * dx - mean ** 2\n",
    "        return -2 * (np.log(var) - np.log(2)) ** 2\n",
    "    \n",
    "# For a linear model with normal prior and additive Gaussian noise,\n",
    "# the posterior is also a normal distribution.\n",
    "# This function updates the mean and std after observing new data y \n",
    "# under design d.\n",
    "def update_mean_std(loc, scale, noise_scale, d, y):\n",
    "    loc_new = ((y * d * scale ** 2 + loc * noise_scale ** 2) \n",
    "               / (d ** 2 * scale ** 2 + noise_scale ** 2))\n",
    "    scale_new = np.sqrt(scale ** 2 * noise_scale ** 2 \n",
    "                        / (d**2 * scale ** 2 + noise_scale ** 2))\n",
    "    return loc_new, scale_new"
   ]
  },
  {
   "cell_type": "code",
   "execution_count": 3,
   "metadata": {
    "ExecuteTime": {
     "end_time": "2021-10-18T20:38:30.364616Z",
     "start_time": "2021-10-18T20:38:30.340476Z"
    }
   },
   "outputs": [],
   "source": [
    "n_stage = 2 # Number of stages.\n",
    "n_param = 1 # Number of parameters.\n",
    "n_design = 1 # Number of design variables.\n",
    "n_obs = 1 # Number of observations.\n",
    "\n",
    "prior_type = \"normal\" # \"normal\" for normal dist, \"uniform\" for uniform dist.\n",
    "prior_loc = 0 # mean for normal, lower bound for uniform.\n",
    "prior_scale = 3 # std for normal, range for uniform.\n",
    "prior_info = [(prior_type, prior_loc, prior_scale),]\n",
    "\n",
    "design_bounds = [(0.1, 3.0),] # lower and upper bounds of design variables.\n",
    "\n",
    "# Noise if following N(noise_loc, noise_base_scale + noise_ratio_scale * abs(G))\n",
    "noise_loc = 0\n",
    "noise_base_scale = 1\n",
    "noise_ratio_scale = 0\n",
    "noise_info = [(noise_loc, noise_base_scale, noise_ratio_scale),]\n",
    "\n",
    "# Number of grid points on each dimension of parameter space to store PDFs.\n",
    "n_grid = 50\n",
    "\n",
    "# Method to sample posterior samples, could be \"Rejection\" or \"MCMC\", default\n",
    "# is \"MCMC\".\n",
    "post_rvs_method = \"Rejection\"\n",
    "\n",
    "# Number of basic features. Basic features include\n",
    "#    * mean\n",
    "#    * log(var)\n",
    "#    * var\n",
    "#    * log(m4)\n",
    "n_basic_feature = 2\n",
    "# Number of degrees for the polynomial combinations of features.\n",
    "n_degree = 2\n",
    "\n",
    "# Random state could be eith an integer or None.\n",
    "random_state = 2021"
   ]
  },
  {
   "cell_type": "code",
   "execution_count": 4,
   "metadata": {
    "ExecuteTime": {
     "end_time": "2021-10-18T20:38:31.489679Z",
     "start_time": "2021-10-18T20:38:31.466061Z"
    }
   },
   "outputs": [],
   "source": [
    "soed = ADPsOED(model_fun=linear_model,\n",
    "               n_stage=n_stage,\n",
    "               n_param=n_param,\n",
    "               n_design=n_design,\n",
    "               n_obs=n_obs,\n",
    "               prior_info=prior_info,\n",
    "               design_bounds=design_bounds,\n",
    "               noise_info=noise_info,\n",
    "               reward_fun=reward_fun,\n",
    "               n_grid=n_grid,\n",
    "               post_rvs_method=post_rvs_method,\n",
    "               random_state=random_state,\n",
    "               n_basic_feature=n_basic_feature,\n",
    "               n_degree=n_degree)"
   ]
  },
  {
   "cell_type": "code",
   "execution_count": 5,
   "metadata": {
    "ExecuteTime": {
     "end_time": "2021-10-18T20:38:32.515410Z",
     "start_time": "2021-10-18T20:38:32.494628Z"
    }
   },
   "outputs": [],
   "source": [
    "model_evals = 0"
   ]
  },
  {
   "cell_type": "code",
   "execution_count": 6,
   "metadata": {
    "ExecuteTime": {
     "end_time": "2021-10-18T20:52:32.399375Z",
     "start_time": "2021-10-18T20:38:35.418234Z"
    }
   },
   "outputs": [
    {
     "name": "stdout",
     "output_type": "stream",
     "text": [
      "Update Level 0\n",
      "Start Exploration\n",
      "******************************\n",
      "Start Approximate Value Iteration\n",
      "******************************\n",
      "\n",
      "End of SOED\n",
      "\n",
      "Forward model evaluations:  525277400\n"
     ]
    }
   ],
   "source": [
    "# First update.\n",
    "count = 0\n",
    "soed.soed(1, 1000)\n",
    "model_evals += count\n",
    "print(\"\\nForward model evaluations: \", model_evals)"
   ]
  },
  {
   "cell_type": "code",
   "execution_count": 7,
   "metadata": {
    "ExecuteTime": {
     "end_time": "2021-10-19T03:39:09.593136Z",
     "start_time": "2021-10-18T20:52:33.332358Z"
    }
   },
   "outputs": [
    {
     "name": "stdout",
     "output_type": "stream",
     "text": [
      "Start Assesment\n",
      "******************************\n",
      "Averaged total reward:  0.7754\n"
     ]
    },
    {
     "data": {
      "text/plain": [
       "0.7754385920612894"
      ]
     },
     "execution_count": 7,
     "metadata": {},
     "output_type": "execute_result"
    }
   ],
   "source": [
    "# First assesment.\n",
    "soed.asses(10000)"
   ]
  },
  {
   "cell_type": "code",
   "execution_count": 8,
   "metadata": {
    "ExecuteTime": {
     "end_time": "2021-10-19T05:09:05.665362Z",
     "start_time": "2021-10-19T04:27:54.459739Z"
    }
   },
   "outputs": [
    {
     "name": "stdout",
     "output_type": "stream",
     "text": [
      "Update Level 1\n",
      "Start Exploration\n",
      "******************************\n",
      "Start Exploitation\n",
      "******************************\n",
      "Averaged total reward:  0.7542\n",
      "Start Approximate Value Iteration\n",
      "******************************\n",
      "\n",
      "End of SOED\n",
      "\n",
      "Forward model evaluations:  1708433600\n"
     ]
    }
   ],
   "source": [
    "# Second update.\n",
    "count = 0\n",
    "soed.soed(1, 1000)\n",
    "model_evals += count\n",
    "print(\"\\nForward model evaluations: \", model_evals)"
   ]
  },
  {
   "cell_type": "code",
   "execution_count": 9,
   "metadata": {
    "ExecuteTime": {
     "end_time": "2021-10-19T11:40:48.535849Z",
     "start_time": "2021-10-19T05:09:06.841641Z"
    }
   },
   "outputs": [
    {
     "name": "stdout",
     "output_type": "stream",
     "text": [
      "Start Assesment\n",
      "******************************\n",
      "Averaged total reward:  0.7673\n"
     ]
    },
    {
     "data": {
      "text/plain": [
       "0.7672603732893807"
      ]
     },
     "execution_count": 9,
     "metadata": {},
     "output_type": "execute_result"
    }
   ],
   "source": [
    "# Second assesment.\n",
    "soed.asses(10000)"
   ]
  },
  {
   "cell_type": "code",
   "execution_count": 363,
   "metadata": {
    "ExecuteTime": {
     "end_time": "2021-10-18T17:16:52.908845Z",
     "start_time": "2021-10-18T17:16:52.593970Z"
    }
   },
   "outputs": [
    {
     "data": {
      "image/png": "[encoded data removed]",
      "text/plain": [
       "<Figure size 720x720 with 2 Axes>"
      ]
     },
     "metadata": {
      "needs_background": "light"
     },
     "output_type": "display_data"
    }
   ],
   "source": [
    "# Check whether post_rvs and get_xb are working well.\n",
    "d_hist = np.array([[0.5], [0.7]])\n",
    "y_hist = np.array([[2], [2]])\n",
    "theta_grid = np.linspace(-10, 10, 1001)\n",
    "dtheta = theta_grid[1] - theta_grid[0]\n",
    "loc = prior_loc\n",
    "scale = prior_scale\n",
    "xb = None\n",
    "xp = None\n",
    "reward_hist = []\n",
    "\n",
    "plt.figure(figsize=(10, 10))\n",
    "for i in range(n_stage):\n",
    "    reward_hist.append(soed.get_reward(i, xb, d=d_hist[i], y=y_hist[i]))\n",
    "    loc, scale = update_mean_std(loc, scale, noise_base_scale, \n",
    "                                 d_hist[i], y_hist[i])\n",
    "    exact_pdf = norm_pdf(theta_grid.reshape(-1, n_param), loc, scale )\n",
    "    soed_pdf = soed.post_pdf(theta_grid.reshape(-1, n_param), \n",
    "                             stage=0,\n",
    "                             d_hist=d_hist[0:i + 1],\n",
    "                             y_hist=y_hist[0:i + 1])\n",
    "    soed_pdf /= soed_pdf.sum() * dtheta\n",
    "    post_samples = soed.post_rvs(100, \n",
    "                                 d_hist=d_hist[0:i + 1],\n",
    "                                 y_hist=y_hist[0:i + 1],\n",
    "                                 use_MCMC=False)\n",
    "#     xb = soed.xb_f(xb,\n",
    "#                    stage=i,\n",
    "#                    d=d_hist[i],\n",
    "#                    y=y_hist[i])    \n",
    "    xb = soed.get_xb(None,\n",
    "                     stage=0,\n",
    "                     d_hist=d_hist[0:i+1],\n",
    "                     y_hist=y_hist[0:i+1])\n",
    "    \n",
    "    plt.subplot(2, 1, i + 1)\n",
    "    plt.plot(theta_grid, exact_pdf, label='exact pdf')\n",
    "    plt.plot(theta_grid, soed_pdf, '--', label='soed pdf')\n",
    "    plt.plot(xb[:, 0], xb[:, 1], '-.', label='xb')\n",
    "    plt.hist(post_samples, density=True)\n",
    "    if i == 1: plt.xlabel('$\\\\theta$', fontsize=20)\n",
    "    plt.ylabel('PDF', fontsize=20)\n",
    "    plt.legend(fontsize=20)\n",
    "    plt.xticks(fontsize=15)\n",
    "    plt.yticks(fontsize=15)\n",
    "    plt.title(\"{}-th stage\".format(i), fontsize=25)\n",
    "reward_hist.append(soed.get_reward(n_stage, xb, d=None, y=None))\n",
    "total_reward, reward_hist_2 = soed.get_total_reward(d_hist, y_hist, True)"
   ]
  }
 ],
 "metadata": {
  "hide_input": false,
  "kernelspec": {
   "display_name": "Python 3",
   "language": "python",
   "name": "python3"
  },
  "language_info": {
   "codemirror_mode": {
    "name": "ipython",
    "version": 3
   },
   "file_extension": ".py",
   "mimetype": "text/x-python",
   "name": "python",
   "nbconvert_exporter": "python",
   "pygments_lexer": "ipython3",
   "version": "3.7.6"
  },
  "toc": {
   "base_numbering": 1,
   "nav_menu": {},
   "number_sections": true,
   "sideBar": true,
   "skip_h1_title": false,
   "title_cell": "Table of Contents",
   "title_sidebar": "Contents",
   "toc_cell": false,
   "toc_position": {},
   "toc_section_display": true,
   "toc_window_display": false
  },
  "varInspector": {
   "cols": {
    "lenName": 16,
    "lenType": 16,
    "lenVar": 40
   },
   "kernels_config": {
    "python": {
     "delete_cmd_postfix": "",
     "delete_cmd_prefix": "del ",
     "library": "var_list.py",
     "varRefreshCmd": "print(var_dic_list())"
    },
    "r": {
     "delete_cmd_postfix": ") ",
     "delete_cmd_prefix": "rm(",
     "library": "var_list.r",
     "varRefreshCmd": "cat(var_dic_list()) "
    }
   },
   "types_to_exclude": [
    "module",
    "function",
    "builtin_function_or_method",
    "instance",
    "_Feature"
   ],
   "window_display": false
  }
 },
 "nbformat": 4,
 "nbformat_minor": 2
}

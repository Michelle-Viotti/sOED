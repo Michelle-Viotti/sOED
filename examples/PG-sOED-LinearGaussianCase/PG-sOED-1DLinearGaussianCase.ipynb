{
 "cells": [
  {
   "cell_type": "code",
   "execution_count": 1,
   "metadata": {
    "ExecuteTime": {
     "end_time": "2021-10-20T22:53:52.066890Z",
     "start_time": "2021-10-20T22:53:51.056794Z"
    }
   },
   "outputs": [],
   "source": [
    "%load_ext autoreload\n",
    "%autoreload 2\n",
    "\n",
    "import os,sys,inspect\n",
    "current_dir = os.path.dirname(os.path.abspath(inspect.getfile(inspect.currentframe())))\n",
    "parent_dir = os.path.dirname(os.path.dirname(current_dir))\n",
    "sys.path.insert(0, parent_dir) \n",
    "\n",
    "import numpy as np\n",
    "import torch\n",
    "import torch.nn as nn\n",
    "import torch.nn.functional as F\n",
    "import torch.optim as optim\n",
    "import matplotlib.pyplot as plt\n",
    "\n",
    "from sOED import SOED\n",
    "from sOED import PGsOED\n",
    "from sOED.utils import *\n",
    "\n",
    "def linear_model(stage, theta, d, xp=None):\n",
    "    \"\"\"\n",
    "    Linear model function G(theta, d) = theta * d\n",
    "\n",
    "    Parameters\n",
    "    ----------\n",
    "    stage : int\n",
    "        The stage index of the experiment.\n",
    "    theta : np.ndarray of size (n_sample, n_param)\n",
    "        The value of unknown linear model parameters.\n",
    "    d : np.ndarray of size (n_sample, n_design)\n",
    "        The design variable.\n",
    "    xp : np.ndarray of size (n_sample, n_phys_state), optional(default=None)\n",
    "        The physical state.\n",
    "\n",
    "    Returns\n",
    "    -------\n",
    "    numpy.ndarray of size (n_sample, n_obs)\n",
    "        The output of the linear model.\n",
    "    \"\"\"\n",
    "    global count\n",
    "    count += max(len(theta), len(d))\n",
    "    return theta * d\n",
    "\n",
    "def reward_fun(stage, xb, xp, d, y):\n",
    "    \"\"\"\n",
    "    Non-KL-divergence based reward function g_k(x_k, d_k, y_k)\n",
    "    \n",
    "    Parameters\n",
    "    ----------\n",
    "    stage : int\n",
    "        The stage index of the experiment.\n",
    "    xb : numpy.ndarray of size (n_grid ** n_param, n_param + 1)\n",
    "        Grid discritization of the belief state.\n",
    "    xp : np.ndarray of size (n_phys_state)\n",
    "        The physical state.\n",
    "    d : np.ndarray of size (n_design)\n",
    "        The design variable.\n",
    "    y : np.ndarray of size (n_obs)\n",
    "        The observation.\n",
    "\n",
    "    Returns\n",
    "    -------\n",
    "    A float which is the reward.\n",
    "    \"\"\"\n",
    "    if stage < n_stage:\n",
    "        return 0\n",
    "    else:\n",
    "        dx = xb[1, 0] - xb[0, 0]\n",
    "        mean = (xb[:, 1] * xb[:, 0]).sum() * dx\n",
    "        var = (xb[:, 1] * xb[:, 0] ** 2).sum() * dx - mean ** 2\n",
    "        return -2 * (np.log(var) - np.log(2)) ** 2\n",
    "    \n",
    "# For a linear model with normal prior and additive Gaussian noise,\n",
    "# the posterior is also a normal distribution.\n",
    "# This function updates the mean and std after observing new data y \n",
    "# under design d.\n",
    "def update_mean_std(loc, scale, noise_scale, d, y):\n",
    "    loc_new = ((y * d * scale ** 2 + loc * noise_scale ** 2) \n",
    "               / (d ** 2 * scale ** 2 + noise_scale ** 2))\n",
    "    scale_new = np.sqrt(scale ** 2 * noise_scale ** 2 \n",
    "                        / (d**2 * scale ** 2 + noise_scale ** 2))\n",
    "    return loc_new, scale_new"
   ]
  },
  {
   "cell_type": "code",
   "execution_count": 50,
   "metadata": {
    "ExecuteTime": {
     "end_time": "2021-10-20T23:03:00.783769Z",
     "start_time": "2021-10-20T23:03:00.723884Z"
    }
   },
   "outputs": [],
   "source": [
    "n_stage = 2 # Number of stages.\n",
    "n_param = 1 # Number of parameters.\n",
    "n_design = 1 # Number of design variables.\n",
    "n_obs = 1 # Number of observations.\n",
    "\n",
    "prior_type = \"normal\" # \"normal\" for normal dist, \"uniform\" for uniform dist.\n",
    "prior_loc = 0 # mean for normal, lower bound for uniform.\n",
    "prior_scale = 3 # std for normal, range for uniform.\n",
    "prior_info = [(prior_type, prior_loc, prior_scale),]\n",
    "\n",
    "design_cons = [(0.1, 3.0),] # lower and upper bounds of design variables.\n",
    "\n",
    "# Noise if following N(noise_loc, noise_base_scale + noise_ratio_scale * abs(G))\n",
    "noise_loc = 0\n",
    "noise_base_scale = 1\n",
    "noise_ratio_scale = 0\n",
    "noise_info = [(noise_loc, noise_base_scale, noise_ratio_scale),]\n",
    "\n",
    "# Number of grid points on each dimension of parameter space to store PDFs.\n",
    "n_grid = 50\n",
    "\n",
    "# Method to sample posterior samples, could be \"Rejection\" or \"MCMC\", default\n",
    "# is \"MCMC\".\n",
    "post_rvs_method = \"Rejection\"\n",
    "\n",
    "\n",
    "# Random state could be eith an integer or None.\n",
    "random_state = 2021"
   ]
  },
  {
   "cell_type": "code",
   "execution_count": 51,
   "metadata": {
    "ExecuteTime": {
     "end_time": "2021-10-20T23:03:01.065199Z",
     "start_time": "2021-10-20T23:03:00.995098Z"
    }
   },
   "outputs": [],
   "source": [
    "soed = PGsOED(model_fun=linear_model,\n",
    "              n_stage=n_stage,\n",
    "              n_param=n_param,\n",
    "              n_design=n_design,\n",
    "              n_obs=n_obs,\n",
    "              prior_info=prior_info,\n",
    "              design_cons=design_cons,\n",
    "              noise_info=noise_info,\n",
    "              reward_fun=reward_fun,\n",
    "              n_grid=n_grid,\n",
    "              post_rvs_method=post_rvs_method,\n",
    "              random_state=random_state,\n",
    "              actor_dimns=[80, 80],\n",
    "              critic_dimns=[80, 80])"
   ]
  },
  {
   "cell_type": "code",
   "execution_count": 52,
   "metadata": {
    "ExecuteTime": {
     "end_time": "2021-10-20T23:03:01.284340Z",
     "start_time": "2021-10-20T23:03:01.227236Z"
    }
   },
   "outputs": [],
   "source": [
    "actor_optimizer = optim.SGD(soed.actor_net.parameters(), lr=0.1)\n",
    "\n",
    "n_critic_update = 100\n",
    "critic_optimizer = optim.SGD(soed.critic_net.parameters(), lr=0.02)"
   ]
  },
  {
   "cell_type": "code",
   "execution_count": 53,
   "metadata": {
    "ExecuteTime": {
     "end_time": "2021-10-20T23:03:20.991907Z",
     "start_time": "2021-10-20T23:03:01.523886Z"
    },
    "scrolled": true
   },
   "outputs": [
    {
     "name": "stdout",
     "output_type": "stream",
     "text": [
      "Update Level 0\n",
      "******************************\n",
      "Averaged total reward:  -9.469\n",
      "Update Level 1\n",
      "******************************\n",
      "Averaged total reward:  -3.4\n",
      "Update Level 2\n",
      "******************************\n",
      "Averaged total reward:  -1.778\n",
      "Update Level 3\n",
      "******************************\n",
      "Averaged total reward:  -0.6059\n",
      "Update Level 4\n",
      "******************************\n",
      "Averaged total reward:  0.1495\n",
      "Update Level 5\n",
      "******************************\n",
      "Averaged total reward:  0.6319\n",
      "Update Level 6\n",
      "******************************\n",
      "Averaged total reward:  0.6583\n",
      "Update Level 7\n",
      "******************************\n",
      "Averaged total reward:  0.5146\n",
      "Update Level 8\n",
      "******************************\n",
      "Averaged total reward:  0.4003\n",
      "Update Level 9\n",
      "******************************\n",
      "Averaged total reward:  0.3155\n",
      "Update Level 10\n",
      "******************************\n",
      "Averaged total reward:  0.3134\n",
      "Update Level 11\n",
      "******************************\n",
      "Averaged total reward:  0.3207\n",
      "Update Level 12\n",
      "******************************\n",
      "Averaged total reward:  0.4714\n",
      "Update Level 13\n",
      "******************************\n",
      "Averaged total reward:  0.57\n",
      "Update Level 14\n",
      "******************************\n",
      "Averaged total reward:  0.6967\n",
      "Update Level 15\n",
      "******************************\n",
      "Averaged total reward:  0.676\n",
      "Update Level 16\n",
      "******************************\n",
      "Averaged total reward:  0.6991\n",
      "Update Level 17\n",
      "******************************\n",
      "Averaged total reward:  0.6941\n",
      "Update Level 18\n",
      "******************************\n",
      "Averaged total reward:  0.678\n",
      "Update Level 19\n",
      "******************************\n",
      "Averaged total reward:  0.6539\n",
      "Update Level 20\n",
      "******************************\n",
      "Averaged total reward:  0.7009\n",
      "Update Level 21\n",
      "******************************\n",
      "Averaged total reward:  0.7461\n",
      "Update Level 22\n",
      "******************************\n",
      "Averaged total reward:  0.7072\n",
      "Update Level 23\n",
      "******************************\n",
      "Averaged total reward:  0.7127\n",
      "Update Level 24\n",
      "******************************\n",
      "Averaged total reward:  0.7278\n",
      "Update Level 25\n",
      "******************************\n",
      "Averaged total reward:  0.7047\n",
      "Update Level 26\n",
      "******************************\n",
      "Averaged total reward:  0.7145\n",
      "Update Level 27\n",
      "******************************\n",
      "Averaged total reward:  0.7465\n",
      "Update Level 28\n",
      "******************************\n",
      "Averaged total reward:  0.7667\n",
      "Update Level 29\n",
      "******************************\n",
      "Averaged total reward:  0.7252\n"
     ]
    }
   ],
   "source": [
    "count = 0\n",
    "soed.soed(n_update=30,\n",
    "          n_traj=1000,\n",
    "          actor_optimizer=actor_optimizer,\n",
    "          n_critic_update=n_critic_update,\n",
    "          critic_optimizer=critic_optimizer,\n",
    "          design_noise_scale=0.1, \n",
    "          design_noise_decay=0.99)"
   ]
  },
  {
   "cell_type": "code",
   "execution_count": 54,
   "metadata": {
    "ExecuteTime": {
     "end_time": "2021-10-20T23:03:21.211995Z",
     "start_time": "2021-10-20T23:03:21.135522Z"
    }
   },
   "outputs": [
    {
     "name": "stdout",
     "output_type": "stream",
     "text": [
      "\n",
      "Forward model evaluations:  3060000\n"
     ]
    }
   ],
   "source": [
    "print(\"\\nForward model evaluations: \", count)"
   ]
  },
  {
   "cell_type": "code",
   "execution_count": 55,
   "metadata": {
    "ExecuteTime": {
     "end_time": "2021-10-20T23:03:25.582773Z",
     "start_time": "2021-10-20T23:03:21.338764Z"
    }
   },
   "outputs": [
    {
     "name": "stdout",
     "output_type": "stream",
     "text": [
      "******************************\n",
      "Averaged total reward:  0.7781\n"
     ]
    },
    {
     "data": {
      "text/plain": [
       "0.7781131564057383"
      ]
     },
     "execution_count": 55,
     "metadata": {},
     "output_type": "execute_result"
    }
   ],
   "source": [
    "soed.asses(10000)"
   ]
  },
  {
   "cell_type": "code",
   "execution_count": 61,
   "metadata": {
    "ExecuteTime": {
     "end_time": "2021-10-20T23:04:23.164914Z",
     "start_time": "2021-10-20T23:04:22.955471Z"
    }
   },
   "outputs": [
    {
     "data": {
      "image/png": "[encoded data removed]",
      "text/plain": [
       "<Figure size 432x432 with 1 Axes>"
      ]
     },
     "metadata": {
      "needs_background": "light"
     },
     "output_type": "display_data"
    }
   ],
   "source": [
    "plt.figure(figsize=(6, 6))\n",
    "plt.scatter(soed.dcs_hist[:, 0, 0], soed.dcs_hist[:, 1, 0])\n",
    "plt.xlim(0, 3)\n",
    "plt.ylim(0, 3)\n",
    "plt.xlabel(\"$d_0$\", fontsize=20)\n",
    "plt.ylabel(\"$d_1$\", fontsize=20)\n",
    "plt.grid(ls='--')"
   ]
  }
 ],
 "metadata": {
  "hide_input": false,
  "kernelspec": {
   "display_name": "Python 3",
   "language": "python",
   "name": "python3"
  },
  "language_info": {
   "codemirror_mode": {
    "name": "ipython",
    "version": 3
   },
   "file_extension": ".py",
   "mimetype": "text/x-python",
   "name": "python",
   "nbconvert_exporter": "python",
   "pygments_lexer": "ipython3",
   "version": "3.7.4"
  },
  "toc": {
   "base_numbering": 1,
   "nav_menu": {},
   "number_sections": true,
   "sideBar": true,
   "skip_h1_title": false,
   "title_cell": "Table of Contents",
   "title_sidebar": "Contents",
   "toc_cell": false,
   "toc_position": {},
   "toc_section_display": true,
   "toc_window_display": false
  },
  "varInspector": {
   "cols": {
    "lenName": 16,
    "lenType": 16,
    "lenVar": 40
   },
   "kernels_config": {
    "python": {
     "delete_cmd_postfix": "",
     "delete_cmd_prefix": "del ",
     "library": "var_list.py",
     "varRefreshCmd": "print(var_dic_list())"
    },
    "r": {
     "delete_cmd_postfix": ") ",
     "delete_cmd_prefix": "rm(",
     "library": "var_list.r",
     "varRefreshCmd": "cat(var_dic_list()) "
    }
   },
   "types_to_exclude": [
    "module",
    "function",
    "builtin_function_or_method",
    "instance",
    "_Feature"
   ],
   "window_display": false
  }
 },
 "nbformat": 4,
 "nbformat_minor": 2
}
